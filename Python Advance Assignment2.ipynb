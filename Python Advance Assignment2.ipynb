{
 "cells": [
  {
   "cell_type": "code",
   "execution_count": 1,
   "metadata": {},
   "outputs": [
    {
     "name": "stdout",
     "output_type": "stream",
     "text": [
      "Object `modules` not found.\n",
      "Object `classes` not found.\n",
      "Object `created` not found.\n",
      "Object `created` not found.\n",
      "Object `mean` not found.\n",
      "Object `overloading` not found.\n",
      "Object `classes` not found.\n"
     ]
    }
   ],
   "source": [
    "Q1. What is the relationship between classes and modules?\n",
    "\n",
    "\n",
    "\n",
    "Q2. How do you make instances and classes?\n",
    "\n",
    "\n",
    "\n",
    "Q3. Where and how should be class attributes created?\n",
    "\n",
    "\n",
    "\n",
    "Q4. Where and how are instance attributes created?\n",
    "\n",
    "\n",
    "\n",
    "Q5. What does the term \"self\" in a Python class mean?\n",
    "\n",
    "\n",
    "\n",
    "Q6. How does a Python class handle operator overloading?\n",
    "\n",
    "\n",
    "\n",
    "Q7. When do you consider allowing operator overloading of your classes?"
   ]
  },
  {
   "cell_type": "raw",
   "metadata": {},
   "source": [
    "Q1. What is the relationship between classes and modules?\n",
    "Solution: Basically, a class can be instantiated but a module cannot. A module will never be anything other than a library of methods. A class can be so much more -- it can hold its state (by keeping track of instance variables) and be duplicated as many times as you want."
   ]
  },
  {
   "cell_type": "raw",
   "metadata": {},
   "source": [
    "Q2. How do you make instances and classes?\n",
    "Sol: To create instances of a class, you call the class using class name and pass in whatever arguments its __init__ method accepts.\n",
    "\n"
   ]
  },
  {
   "cell_type": "code",
   "execution_count": 4,
   "metadata": {},
   "outputs": [
    {
     "name": "stdout",
     "output_type": "stream",
     "text": [
      "I am a class attribute!\n",
      "I am a class attribute!\n"
     ]
    }
   ],
   "source": [
    "'''Q3. Where and how should be class attributes created?\n",
    "Sol: Class attributes are attributes which are owned by the class itself. They will be shared by all the instances of the class. Therefore they have the same value for every instance. We define class attributes outside all the methods, usually they are placed at the top, right below the class header.\n",
    "EX:''' \n",
    "class A:\n",
    "    a = \"I am a class attribute!\"\n",
    "\n",
    "x = A()\n",
    "y = A()\n",
    "print(x.a)\n",
    "print(y.a)\n",
    "## But be careful, if you want to change a class attribute, you have to do it with the notation ClassName.AttributeName. \n",
    "## Otherwise, you will create a new instance variable. "
   ]
  },
  {
   "cell_type": "code",
   "execution_count": 5,
   "metadata": {},
   "outputs": [],
   "source": [
    "'''Q4. Where and how are instance attributes created?\n",
    "Sol: Instance Attributes are unique to each object, (an instance is another name for an object).\n",
    "Here, any Dog object we create will be able to store its name and age. \n",
    "We can change either attribute of either dog, without affecting any other dog objects we’ve created.\n",
    "This __init__ is called the initializer. \n",
    "It is automatically called when we instantiate the class. \n",
    "It’s job is to make sure the class has any attributes it needs. \n",
    "It’s sometimes also used to make sure that the object is in a valid state when it’s instantiated, like making sure the user didn’t enter a negative age for the dog.\n",
    "We have to include the self parameter so that our initializer has a reference to the new object being instantiated.'''\n",
    "class Dog:\n",
    "\n",
    "    def __init__(self, name, age):\n",
    "        self.name = name\n",
    "        self.age = age"
   ]
  },
  {
   "cell_type": "raw",
   "metadata": {},
   "source": [
    "Q5. What does the term \"self\" in a Python class mean?\n",
    "Sol: self represents the instance of the class. By using the “self” keyword we can access the attributes and methods of the class in python"
   ]
  },
  {
   "cell_type": "raw",
   "metadata": {},
   "source": [
    "Q6. How does a Python class handle operator overloading?\n",
    "sol:Python operators work for built-in classes. ... For example, the + operator will perform arithmetic addition on two numbers, merge two lists, or concatenate two strings. This feature in Python that allows the same operator to have different meaning according to the context is called operator overloading."
   ]
  },
  {
   "cell_type": "raw",
   "metadata": {},
   "source": [
    "Q7. When do you consider allowing operator overloading of your classes?\n",
    "Sol: We will consider allowing operator overloading in our classes when we want to perform perform arithmetic addition on two numbers, merge two lists, or concatenate two strings."
   ]
  }
 ],
 "metadata": {
  "kernelspec": {
   "display_name": "Python 3",
   "language": "python",
   "name": "python3"
  },
  "language_info": {
   "codemirror_mode": {
    "name": "ipython",
    "version": 3
   },
   "file_extension": ".py",
   "mimetype": "text/x-python",
   "name": "python",
   "nbconvert_exporter": "python",
   "pygments_lexer": "ipython3",
   "version": "3.8.5"
  }
 },
 "nbformat": 4,
 "nbformat_minor": 4
}
